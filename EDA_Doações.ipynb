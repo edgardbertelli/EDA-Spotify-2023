{
  "nbformat": 4,
  "nbformat_minor": 0,
  "metadata": {
    "colab": {
      "provenance": [],
      "authorship_tag": "ABX9TyMoTwGMmcqKno/SYiT2fxeS",
      "include_colab_link": true
    },
    "kernelspec": {
      "name": "python3",
      "display_name": "Python 3"
    },
    "language_info": {
      "name": "python"
    }
  },
  "cells": [
    {
      "cell_type": "markdown",
      "metadata": {
        "id": "view-in-github",
        "colab_type": "text"
      },
      "source": [
        "<a href=\"https://colab.research.google.com/github/edgardbertelli/EDA-doacoes-numpy/blob/main/EDA_Doa%C3%A7%C3%B5es.ipynb\" target=\"_parent\"><img src=\"https://colab.research.google.com/assets/colab-badge.svg\" alt=\"Open In Colab\"/></a>"
      ]
    },
    {
      "cell_type": "markdown",
      "source": [
        "# EDA doações"
      ],
      "metadata": {
        "id": "ryxbt0O212-5"
      }
    },
    {
      "cell_type": "markdown",
      "source": [
        "Esta é uma análise exploratória de dados das doações feitas para uma instituição de pesquisa sobre o alcoolismo (dados fictícios)."
      ],
      "metadata": {
        "id": "eZ11vkXW1_9-"
      }
    },
    {
      "cell_type": "code",
      "source": [
        "import numpy as np"
      ],
      "metadata": {
        "id": "xmxGHH1n4drd"
      },
      "execution_count": 29,
      "outputs": []
    },
    {
      "cell_type": "code",
      "execution_count": 7,
      "metadata": {
        "id": "JdLGp21GHs9l"
      },
      "outputs": [],
      "source": [
        "import pandas as pd"
      ]
    },
    {
      "cell_type": "code",
      "source": [
        "donations_data = pd.read_csv('/content/sample_data/donations.csv').values"
      ],
      "metadata": {
        "id": "8-OmsvJBIOW4"
      },
      "execution_count": 11,
      "outputs": []
    },
    {
      "cell_type": "code",
      "source": [
        "print(donations_data)"
      ],
      "metadata": {
        "colab": {
          "base_uri": "https://localhost:8080/"
        },
        "id": "QDbYj6c5Ibk1",
        "outputId": "22fee15d-c8a3-43ea-b5e1-4ceebbce24ba"
      },
      "execution_count": 12,
      "outputs": [
        {
          "output_type": "stream",
          "name": "stdout",
          "text": [
            "[[1 'Huntley' 'De Brett' 'hdebrett0@goo.ne.jp' 'Male' 8955.13]\n",
            " [2 'Kandace' 'Chatburn' 'kchatburn1@wp.com' 'Female' 19278.52]\n",
            " [3 'Joice' 'Dwane' 'jdwane2@skyrock.com' 'Female' 1562.0]\n",
            " ...\n",
            " [998 'Bibbie' 'Tack' 'btackrp@opera.com' 'Genderqueer' 4255.91]\n",
            " [999 'Essa' 'Sweedland' 'esweedlandrq@gizmodo.com' 'Female' 10696.16]\n",
            " [1000 'Skelly' 'De Ferrari' 'sdeferrarirr@amazon.com' 'Male' 10455.09]]\n"
          ]
        }
      ]
    },
    {
      "cell_type": "code",
      "source": [
        "num_donations = len(donations_data)"
      ],
      "metadata": {
        "id": "eTQ8lXDTIzFM"
      },
      "execution_count": 14,
      "outputs": []
    },
    {
      "cell_type": "code",
      "source": [
        "num_donations"
      ],
      "metadata": {
        "colab": {
          "base_uri": "https://localhost:8080/"
        },
        "id": "ACftbfEeJD4H",
        "outputId": "ad180f20-2e8c-4ae3-bfe7-141344cdc1af"
      },
      "execution_count": 15,
      "outputs": [
        {
          "output_type": "execute_result",
          "data": {
            "text/plain": [
              "1000"
            ]
          },
          "metadata": {},
          "execution_count": 15
        }
      ]
    },
    {
      "cell_type": "markdown",
      "source": [
        "Esta análise é feita sobre uma base de 1.000 doações registradas."
      ],
      "metadata": {
        "id": "US__gdWv1tNe"
      }
    },
    {
      "cell_type": "code",
      "source": [
        "donations_values = donations_data[:,5]"
      ],
      "metadata": {
        "id": "YB_zwJ1Ru0Jd"
      },
      "execution_count": 19,
      "outputs": []
    },
    {
      "cell_type": "code",
      "source": [
        "donations_values.max()"
      ],
      "metadata": {
        "colab": {
          "base_uri": "https://localhost:8080/"
        },
        "id": "UXwo6SBz3QH-",
        "outputId": "cf744529-929b-4368-cc15-eeb462002176"
      },
      "execution_count": 21,
      "outputs": [
        {
          "output_type": "execute_result",
          "data": {
            "text/plain": [
              "19998.78"
            ]
          },
          "metadata": {},
          "execution_count": 21
        }
      ]
    },
    {
      "cell_type": "markdown",
      "source": [
        "A nossa maior doação foi de R$19.998,78."
      ],
      "metadata": {
        "id": "dNl3Igv33YKs"
      }
    },
    {
      "cell_type": "code",
      "source": [
        "donations_values.min()"
      ],
      "metadata": {
        "colab": {
          "base_uri": "https://localhost:8080/"
        },
        "id": "zmgE88ww3eHl",
        "outputId": "21678caa-d17b-4c6e-ee4a-0e520f38d5b6"
      },
      "execution_count": 22,
      "outputs": [
        {
          "output_type": "execute_result",
          "data": {
            "text/plain": [
              "88.47"
            ]
          },
          "metadata": {},
          "execution_count": 22
        }
      ]
    },
    {
      "cell_type": "markdown",
      "source": [
        "Já a menor foi de R$88,47."
      ],
      "metadata": {
        "id": "ZNerCpzL3hFT"
      }
    },
    {
      "cell_type": "code",
      "source": [
        "donations_mean = np.mean(donations_values)"
      ],
      "metadata": {
        "id": "tYacxRNG3mbt"
      },
      "execution_count": 36,
      "outputs": []
    },
    {
      "cell_type": "code",
      "source": [
        "round(donations_mean, ndigits=2)"
      ],
      "metadata": {
        "colab": {
          "base_uri": "https://localhost:8080/"
        },
        "id": "RE23o8pE5NyX",
        "outputId": "4c10ad55-f3df-4f4b-9a23-fe56dd71934b"
      },
      "execution_count": 37,
      "outputs": [
        {
          "output_type": "execute_result",
          "data": {
            "text/plain": [
              "10149.55"
            ]
          },
          "metadata": {},
          "execution_count": 37
        }
      ]
    },
    {
      "cell_type": "markdown",
      "source": [
        "A média de doações foi de R$10.149,55."
      ],
      "metadata": {
        "id": "4OHCJv7l4LYX"
      }
    },
    {
      "cell_type": "code",
      "source": [
        "donations_median = np.median(donations_values)"
      ],
      "metadata": {
        "id": "SpAYu2Da4SI4"
      },
      "execution_count": 34,
      "outputs": []
    },
    {
      "cell_type": "code",
      "source": [
        "round(donations_median, ndigits=2)"
      ],
      "metadata": {
        "colab": {
          "base_uri": "https://localhost:8080/"
        },
        "id": "7nq5jUzH5Hgw",
        "outputId": "8eefb417-513f-4047-a8fd-7de95f0d8e00"
      },
      "execution_count": 35,
      "outputs": [
        {
          "output_type": "execute_result",
          "data": {
            "text/plain": [
              "10187.98"
            ]
          },
          "metadata": {},
          "execution_count": 35
        }
      ]
    },
    {
      "cell_type": "markdown",
      "source": [
        "E a mediana das doações foi de R$10.187,98"
      ],
      "metadata": {
        "id": "EZjUzHD84sbM"
      }
    },
    {
      "cell_type": "code",
      "source": [
        "donations_std = np.std(donations_values)"
      ],
      "metadata": {
        "id": "Rbi7AnVO4nez"
      },
      "execution_count": 38,
      "outputs": []
    },
    {
      "cell_type": "code",
      "source": [
        "round(donations_std, ndigits=2)"
      ],
      "metadata": {
        "colab": {
          "base_uri": "https://localhost:8080/"
        },
        "id": "SQ6J-iAb5eiP",
        "outputId": "adf7805b-2ac0-4a40-88e1-21bcc0451d9e"
      },
      "execution_count": 40,
      "outputs": [
        {
          "output_type": "execute_result",
          "data": {
            "text/plain": [
              "5648.46"
            ]
          },
          "metadata": {},
          "execution_count": 40
        }
      ]
    },
    {
      "cell_type": "markdown",
      "source": [
        "O valor do desvio padrão das doações é de 5.648,46."
      ],
      "metadata": {
        "id": "XZLlrd3S5ld3"
      }
    },
    {
      "cell_type": "code",
      "source": [
        "donations_genders = donations_data[:, 4]"
      ],
      "metadata": {
        "id": "S74n0bWE6rpg"
      },
      "execution_count": 42,
      "outputs": []
    },
    {
      "cell_type": "code",
      "source": [
        "donations_genders = np.unique(donations_genders, return_counts=True)"
      ],
      "metadata": {
        "id": "d1RaHm4s65Jw"
      },
      "execution_count": 45,
      "outputs": []
    },
    {
      "cell_type": "code",
      "source": [
        "donations_genders"
      ],
      "metadata": {
        "colab": {
          "base_uri": "https://localhost:8080/"
        },
        "id": "gVTFOTsy7ezw",
        "outputId": "a20c242e-d59f-46a1-f270-4895f6e50180"
      },
      "execution_count": 46,
      "outputs": [
        {
          "output_type": "execute_result",
          "data": {
            "text/plain": [
              "(array(['Agender', 'Bigender', 'Female', 'Genderfluid', 'Genderqueer',\n",
              "        'Male', 'Non-binary', 'Polygender'], dtype=object),\n",
              " array([ 14,  18, 456,  21,  17, 441,  18,  15]))"
            ]
          },
          "metadata": {},
          "execution_count": 46
        }
      ]
    },
    {
      "cell_type": "code",
      "source": [
        "i = 0\n",
        "genders_values = dict()\n",
        "\n",
        "while i < len(donations_genders[0]):\n",
        "    genders_values[donations_genders[0][i]] = donations_genders[1][i]\n",
        "    i = i + 1\n"
      ],
      "metadata": {
        "id": "fkHFuPJb772j"
      },
      "execution_count": 53,
      "outputs": []
    },
    {
      "cell_type": "code",
      "source": [
        "genders_values"
      ],
      "metadata": {
        "colab": {
          "base_uri": "https://localhost:8080/"
        },
        "id": "Na79qjyh9Y3g",
        "outputId": "a4dc11ee-6ea8-4b81-d4c8-fa85c368c0c8"
      },
      "execution_count": 54,
      "outputs": [
        {
          "output_type": "execute_result",
          "data": {
            "text/plain": [
              "{'Agender': 14,\n",
              " 'Bigender': 18,\n",
              " 'Female': 456,\n",
              " 'Genderfluid': 21,\n",
              " 'Genderqueer': 17,\n",
              " 'Male': 441,\n",
              " 'Non-binary': 18,\n",
              " 'Polygender': 15}"
            ]
          },
          "metadata": {},
          "execution_count": 54
        }
      ]
    },
    {
      "cell_type": "code",
      "source": [
        "max(genders_values.values())"
      ],
      "metadata": {
        "colab": {
          "base_uri": "https://localhost:8080/"
        },
        "id": "dbdoWgTn673n",
        "outputId": "3b486cea-e6fd-4004-ef22-1dfd105525d6"
      },
      "execution_count": 59,
      "outputs": [
        {
          "output_type": "execute_result",
          "data": {
            "text/plain": [
              "456"
            ]
          },
          "metadata": {},
          "execution_count": 59
        }
      ]
    },
    {
      "cell_type": "code",
      "source": [
        "max(genders_values, key=genders_values.get)"
      ],
      "metadata": {
        "colab": {
          "base_uri": "https://localhost:8080/",
          "height": 35
        },
        "id": "rXOmfpVz-hx1",
        "outputId": "dd94ffe3-5d2f-42cb-8924-2edb7888b32f"
      },
      "execution_count": 60,
      "outputs": [
        {
          "output_type": "execute_result",
          "data": {
            "text/plain": [
              "'Female'"
            ],
            "application/vnd.google.colaboratory.intrinsic+json": {
              "type": "string"
            }
          },
          "metadata": {},
          "execution_count": 60
        }
      ]
    },
    {
      "cell_type": "code",
      "source": [
        "min(genders_values.values())"
      ],
      "metadata": {
        "colab": {
          "base_uri": "https://localhost:8080/"
        },
        "id": "eCtSkDbi-0R3",
        "outputId": "2e155a86-1425-4943-9064-0726c577f76f"
      },
      "execution_count": 61,
      "outputs": [
        {
          "output_type": "execute_result",
          "data": {
            "text/plain": [
              "14"
            ]
          },
          "metadata": {},
          "execution_count": 61
        }
      ]
    },
    {
      "cell_type": "code",
      "source": [
        "min(genders_values, key=genders_values.get)"
      ],
      "metadata": {
        "colab": {
          "base_uri": "https://localhost:8080/",
          "height": 35
        },
        "id": "FdVDY2Zn-3uc",
        "outputId": "56b5099d-bb7b-4e06-b3e5-3d3e7707699f"
      },
      "execution_count": 62,
      "outputs": [
        {
          "output_type": "execute_result",
          "data": {
            "text/plain": [
              "'Agender'"
            ],
            "application/vnd.google.colaboratory.intrinsic+json": {
              "type": "string"
            }
          },
          "metadata": {},
          "execution_count": 62
        }
      ]
    },
    {
      "cell_type": "markdown",
      "source": [
        "Dentre os doadores, os de gênero feminino são os que mais fizeram doações e os que têm um número menor de doações foram os agêneros."
      ],
      "metadata": {
        "id": "SqB-bUlg7Bkc"
      }
    }
  ]
}